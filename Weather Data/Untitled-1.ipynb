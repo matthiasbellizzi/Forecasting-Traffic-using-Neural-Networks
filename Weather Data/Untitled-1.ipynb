{
 "cells": [
  {
   "cell_type": "code",
   "execution_count": 5,
   "metadata": {},
   "outputs": [
    {
     "name": "stdout",
     "output_type": "stream",
     "text": [
      "2022-01-01\n",
      "2022-02-10\n",
      "2022-03-19\n",
      "2022-03-31\n",
      "2022-04-15\n",
      "2022-05-01\n",
      "2022-06-07\n",
      "2022-06-29\n",
      "2022-08-15\n",
      "2022-09-08\n",
      "2022-09-21\n",
      "2022-12-08\n",
      "2022-12-13\n",
      "2022-12-25\n"
     ]
    }
   ],
   "source": [
    "import json\n",
    "import requests\n",
    "\n",
    "response = requests.get('https://date.nager.at/api/v3/publicholidays/2022/MT')\n",
    "public_holidays = json.loads(response.content)\n",
    "\n",
    "for public_holiday in public_holidays:\n",
    "  print(public_holiday['date'])"
   ]
  },
  {
   "cell_type": "code",
   "execution_count": 3,
   "metadata": {},
   "outputs": [
    {
     "name": "stdout",
     "output_type": "stream",
     "text": [
      "{\"error\":{\"message\":\"You can only query individual days on a free plan, not months or years. You must upgrade to make broader queries.\",\"code\":\"payment_required\",\"details\":null}}\n"
     ]
    }
   ],
   "source": []
  }
 ],
 "metadata": {
  "kernelspec": {
   "display_name": "Python 3",
   "language": "python",
   "name": "python3"
  },
  "language_info": {
   "codemirror_mode": {
    "name": "ipython",
    "version": 3
   },
   "file_extension": ".py",
   "mimetype": "text/x-python",
   "name": "python",
   "nbconvert_exporter": "python",
   "pygments_lexer": "ipython3",
   "version": "3.10.11"
  }
 },
 "nbformat": 4,
 "nbformat_minor": 2
}
