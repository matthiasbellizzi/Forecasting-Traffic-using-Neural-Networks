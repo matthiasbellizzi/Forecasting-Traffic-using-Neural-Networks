{
 "cells": [
  {
   "cell_type": "code",
   "execution_count": 1,
   "metadata": {},
   "outputs": [
    {
     "name": "stdout",
     "output_type": "stream",
     "text": [
      "{\"code\":403001,\"type\":\"Access Denied\",\"message\":\"The authentication token in use is restricted and cannot access the requested resource.\"}\n"
     ]
    }
   ],
   "source": [
    "import requests\n",
    "import json\n",
    "\n",
    "# API Key and Endpoint\n",
    "api_key = 'm0tDkf68LKnriNJiMtp6Vge9AqhQY0Au'\n",
    "url = \"https://api.tomorrow.io/v4/historical?apikey=m0tDkf68LKnriNJiMtp6Vge9AqhQY0Au\"\n",
    "\n",
    "payload = {\n",
    "    \"location\": \"42.3478, -71.0466\",\n",
    "    \"fields\": [\"temperature\"],\n",
    "    \"timesteps\": [\"1h\"],\n",
    "    \"startTime\": \"2019-03-20T14:09:50Z\",\n",
    "    \"endTime\": \"2019-03-28T14:09:50Z\",\n",
    "    \"units\": \"metric\"\n",
    "}\n",
    "headers = {\n",
    "    \"accept\": \"application/json\",\n",
    "    \"Accept-Encoding\": \"gzip\",\n",
    "    \"content-type\": \"application/json\"\n",
    "}\n",
    "\n",
    "response = requests.post(url, json=payload, headers=headers)\n",
    "\n",
    "print(response.text)"
   ]
  }
 ],
 "metadata": {
  "kernelspec": {
   "display_name": "Python 3",
   "language": "python",
   "name": "python3"
  },
  "language_info": {
   "codemirror_mode": {
    "name": "ipython",
    "version": 3
   },
   "file_extension": ".py",
   "mimetype": "text/x-python",
   "name": "python",
   "nbconvert_exporter": "python",
   "pygments_lexer": "ipython3",
   "version": "3.11.7"
  }
 },
 "nbformat": 4,
 "nbformat_minor": 2
}
